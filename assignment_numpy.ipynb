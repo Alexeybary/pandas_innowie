{
 "cells": [
  {
   "cell_type": "markdown",
   "id": "d3df79dd",
   "metadata": {},
   "source": [
    "## Упражнения по библиотеке Numpy"
   ]
  },
  {
   "cell_type": "code",
   "execution_count": 2,
   "id": "76b9c43b",
   "metadata": {},
   "outputs": [],
   "source": [
    "import numpy as np"
   ]
  },
  {
   "cell_type": "markdown",
   "id": "03727b7c",
   "metadata": {},
   "source": [
    "**1.** Дан случайный массив, поменять знак у элементов, значения которых между 3 и 8"
   ]
  },
  {
   "cell_type": "code",
   "execution_count": 11,
   "id": "b89a7523",
   "metadata": {},
   "outputs": [
    {
     "name": "stdout",
     "output_type": "stream",
     "text": [
      "[3 3 1 4 6 3 3 8 1 6]\n",
      "[ 3  3  1 -4 -6  3  3  8  1 -6]\n"
     ]
    }
   ],
   "source": [
    "a=np.random.randint(0,10,10)\n",
    "print(a) \n",
    "a[(a<8) & (a>3)]*=-1       \n",
    "print(a)"
   ]
  },
  {
   "cell_type": "markdown",
   "id": "5fa4abda",
   "metadata": {},
   "source": [
    "**2.** Заменить максимальный элемент случайного массива на 0"
   ]
  },
  {
   "cell_type": "code",
   "execution_count": 4,
   "id": "f2788a6e",
   "metadata": {},
   "outputs": [
    {
     "name": "stdout",
     "output_type": "stream",
     "text": [
      "[11 18 15  8 13  5 14 19 18  5]\n",
      "[11 18 15  8 13  5 14  0 18  5]\n"
     ]
    }
   ],
   "source": [
    "a=np.random.randint(1,20,10)\n",
    "print(a) \n",
    "a[np.argmax(a)]=0\n",
    "print(a)"
   ]
  },
  {
   "cell_type": "markdown",
   "id": "3cac656b",
   "metadata": {},
   "source": [
    "**3.** Построить прямое произведение массивов (все комбинации с каждым элементом). На вход подается двумерный массив"
   ]
  },
  {
   "cell_type": "code",
   "execution_count": 203,
   "id": "3396b764",
   "metadata": {},
   "outputs": [
    {
     "name": "stdout",
     "output_type": "stream",
     "text": [
      "[[ 4 10  8]\n",
      " [ 3  7  3]\n",
      " [ 6  9  1]\n",
      " [ 6  9  1]]\n",
      "[[ 4  3  6  6]\n",
      " [ 4  3  6  9]\n",
      " [ 4  3  6  1]\n",
      " [ 4  3  9  6]\n",
      " [ 4  3  9  9]\n",
      " [ 4  3  9  1]\n",
      " [ 4  3  1  6]\n",
      " [ 4  3  1  9]\n",
      " [ 4  3  1  1]\n",
      " [ 4  7  6  6]\n",
      " [ 4  7  6  9]\n",
      " [ 4  7  6  1]\n",
      " [ 4  7  9  6]\n",
      " [ 4  7  9  9]\n",
      " [ 4  7  9  1]\n",
      " [ 4  7  1  6]\n",
      " [ 4  7  1  9]\n",
      " [ 4  7  1  1]\n",
      " [ 4  3  6  6]\n",
      " [ 4  3  6  9]\n",
      " [ 4  3  6  1]\n",
      " [ 4  3  9  6]\n",
      " [ 4  3  9  9]\n",
      " [ 4  3  9  1]\n",
      " [ 4  3  1  6]\n",
      " [ 4  3  1  9]\n",
      " [ 4  3  1  1]\n",
      " [10  3  6  6]\n",
      " [10  3  6  9]\n",
      " [10  3  6  1]\n",
      " [10  3  9  6]\n",
      " [10  3  9  9]\n",
      " [10  3  9  1]\n",
      " [10  3  1  6]\n",
      " [10  3  1  9]\n",
      " [10  3  1  1]\n",
      " [10  7  6  6]\n",
      " [10  7  6  9]\n",
      " [10  7  6  1]\n",
      " [10  7  9  6]\n",
      " [10  7  9  9]\n",
      " [10  7  9  1]\n",
      " [10  7  1  6]\n",
      " [10  7  1  9]\n",
      " [10  7  1  1]\n",
      " [10  3  6  6]\n",
      " [10  3  6  9]\n",
      " [10  3  6  1]\n",
      " [10  3  9  6]\n",
      " [10  3  9  9]\n",
      " [10  3  9  1]\n",
      " [10  3  1  6]\n",
      " [10  3  1  9]\n",
      " [10  3  1  1]\n",
      " [ 8  3  6  6]\n",
      " [ 8  3  6  9]\n",
      " [ 8  3  6  1]\n",
      " [ 8  3  9  6]\n",
      " [ 8  3  9  9]\n",
      " [ 8  3  9  1]\n",
      " [ 8  3  1  6]\n",
      " [ 8  3  1  9]\n",
      " [ 8  3  1  1]\n",
      " [ 8  7  6  6]\n",
      " [ 8  7  6  9]\n",
      " [ 8  7  6  1]\n",
      " [ 8  7  9  6]\n",
      " [ 8  7  9  9]\n",
      " [ 8  7  9  1]\n",
      " [ 8  7  1  6]\n",
      " [ 8  7  1  9]\n",
      " [ 8  7  1  1]\n",
      " [ 8  3  6  6]\n",
      " [ 8  3  6  9]\n",
      " [ 8  3  6  1]\n",
      " [ 8  3  9  6]\n",
      " [ 8  3  9  9]\n",
      " [ 8  3  9  1]\n",
      " [ 8  3  1  6]\n",
      " [ 8  3  1  9]\n",
      " [ 8  3  1  1]]\n"
     ]
    }
   ],
   "source": [
    "a = np.random.randint(1, 11, size=(4, 3))\n",
    "print(a)\n",
    "b=np.indices(map(len, a))\n",
    "b=b.reshape(len(a),-1).T\n",
    "#matrix of all variants\n",
    "for i in range(len(a)):\n",
    "        b[:,i]=a[i][b[:,i]]\n",
    "print(b)\n"
   ]
  },
  {
   "cell_type": "code",
   "execution_count": null,
   "id": "d96daebd",
   "metadata": {},
   "outputs": [],
   "source": []
  },
  {
   "cell_type": "code",
   "execution_count": null,
   "id": "ec6c0c37",
   "metadata": {},
   "outputs": [],
   "source": []
  },
  {
   "cell_type": "markdown",
   "id": "674c9354",
   "metadata": {},
   "source": [
    "**4.** Даны 2 массива A (8x3) и B (2x2). Найти строки в A, которые содержат элементы из каждой строки в B, независимо от порядка элементов в B"
   ]
  },
  {
   "cell_type": "code",
   "execution_count": 12,
   "id": "cb664782",
   "metadata": {},
   "outputs": [
    {
     "name": "stdout",
     "output_type": "stream",
     "text": [
      "[[2 9 6]\n",
      " [6 3 8]\n",
      " [3 8 3]\n",
      " [9 2 1]\n",
      " [8 6 8]\n",
      " [3 9 5]\n",
      " [9 5 3]\n",
      " [5 7 1]\n",
      " [9 4 4]\n",
      " [3 3 3]] [[7 6]\n",
      " [5 6]]\n",
      "0\n",
      "1\n",
      "4\n",
      "7\n"
     ]
    }
   ],
   "source": [
    "a= np.random.randint(1,10,(10,3))\n",
    "b=np.random.randint(1,10,(2,2))\n",
    "print (a,b)\n",
    "for i in range(len(a)):\n",
    "    if ((b[0][0] in a[i] or b[0][1] in a[i]) and(b[1][0] in a[i] or b[1][1] in a[i])):\n",
    "        print (i)\n",
    "        "
   ]
  },
  {
   "cell_type": "markdown",
   "id": "fa46533b",
   "metadata": {},
   "source": [
    "**5.** Дана 10x3 матрица, найти строки из неравных значений (например строка [2,2,3] остается, строка [3,3,3] удаляется)"
   ]
  },
  {
   "cell_type": "code",
   "execution_count": 116,
   "id": "fa545b23",
   "metadata": {},
   "outputs": [
    {
     "name": "stdout",
     "output_type": "stream",
     "text": [
      "[[1 1 2]\n",
      " [2 1 1]\n",
      " [1 1 1]\n",
      " [1 1 1]\n",
      " [1 2 2]\n",
      " [1 1 1]\n",
      " [1 2 1]\n",
      " [2 2 1]\n",
      " [2 1 2]\n",
      " [2 1 1]]\n",
      "[[1 1]\n",
      " [2 1]\n",
      " [1 1]\n",
      " [1 1]\n",
      " [1 2]\n",
      " [1 1]\n",
      " [1 2]\n",
      " [2 2]\n",
      " [2 1]\n",
      " [2 1]]\n",
      "[[1 1 2]\n",
      " [2 1 1]\n",
      " [1 2 2]\n",
      " [1 2 1]\n",
      " [2 2 1]\n",
      " [2 1 2]\n",
      " [2 1 1]]\n"
     ]
    }
   ],
   "source": [
    "a = np.random.randint(1, 3, size=(10, 3))\n",
    "print(a)\n",
    "b=np.array([[]])\n",
    "b = np.random.randint(1, 3,10)\n",
    "print(a[:,0:-1])\n",
    "unique=np.all(a[:,1:] == a[:,0:-1],axis=1)\n",
    "b=a[~unique]\n",
    "print(b)"
   ]
  },
  {
   "cell_type": "markdown",
   "id": "28f0d116",
   "metadata": {},
   "source": [
    "**6.** Дан двумерный массив. Удалить те строки, которые повторяются"
   ]
  },
  {
   "cell_type": "code",
   "execution_count": 13,
   "id": "83d2c0b7",
   "metadata": {},
   "outputs": [
    {
     "name": "stdout",
     "output_type": "stream",
     "text": [
      "[[2 1 1]\n",
      " [2 2 2]\n",
      " [2 2 2]]\n",
      "[[2 1 1]\n",
      " [2 2 2]]\n"
     ]
    }
   ],
   "source": [
    "a = np.random.randint(1, 3, size=(3, 3))\n",
    "b=np.array([])\n",
    "print(a)\n",
    "for i in a:\n",
    "    b=np.append(b,np.array2string(i))\n",
    "unique, index =np.unique(b,return_index=True)\n",
    "print(a[index])"
   ]
  },
  {
   "cell_type": "code",
   "execution_count": null,
   "id": "29dd68f3",
   "metadata": {},
   "outputs": [],
   "source": []
  },
  {
   "cell_type": "markdown",
   "id": "6daa9e37",
   "metadata": {},
   "source": [
    "______\n",
    "______"
   ]
  },
  {
   "cell_type": "markdown",
   "id": "cfbfcaff",
   "metadata": {},
   "source": [
    "Для каждой из следующих задач (1-5) нужно привести 2 реализации – одна без использования numpy (cчитайте, что там, где на входе или выходе должны быть numpy array, будут просто списки), а вторая полностью векторизованная с использованием numpy (без использования питоновских циклов/map/list comprehension).\n",
    "\n",
    "\n",
    "__Замечание 1.__ Можно считать, что все указанные объекты непустые (к примеру, в __задаче 1__ на диагонали матрицы есть ненулевые элементы).\n",
    "\n",
    "__Замечание 2.__ Для большинства задач решение занимает не больше 1-2 строк."
   ]
  },
  {
   "cell_type": "markdown",
   "id": "673cac7f",
   "metadata": {},
   "source": [
    "___"
   ]
  },
  {
   "cell_type": "markdown",
   "id": "ca6f585e",
   "metadata": {},
   "source": [
    "* __Задача 1__: Подсчитать произведение ненулевых элементов на диагонали прямоугольной матрицы.  \n",
    " Например, для X = np.array([[1, 0, 1], [2, 0, 2], [3, 0, 3], [4, 4, 4]]) ответ 3."
   ]
  },
  {
   "cell_type": "code",
   "execution_count": 70,
   "id": "065862fc",
   "metadata": {},
   "outputs": [
    {
     "name": "stdout",
     "output_type": "stream",
     "text": [
      "[[2 0 0]\n",
      " [0 2 2]\n",
      " [1 0 0]\n",
      " [1 2 0]]\n",
      "4\n",
      "[[1, 0, 1], [2, 0, 2], [3, 0, 3], [4, 4, 4]]\n",
      "3\n"
     ]
    }
   ],
   "source": [
    "X = np.random.randint(0, 3, size=(4, 3))\n",
    "print(X)\n",
    "X=np.diagonal(X)\n",
    "print(np.prod(X[X>0]))\n",
    "\n",
    "Y = [[1, 0, 1], [2, 0, 2], [3, 0, 3], [4, 4, 4]]\n",
    "print(Y)\n",
    "prod=1\n",
    "for i in range(min(len(Y[0]),len(Y))):\n",
    "    if(Y[i][i]!=0):\n",
    "        prod*=Y[i][i]\n",
    "print (prod)"
   ]
  },
  {
   "cell_type": "markdown",
   "id": "9fc51d41",
   "metadata": {},
   "source": [
    "* __Задача 2__: Даны два вектора x и y. Проверить, задают ли они одно и то же мультимножество.  \n",
    "  Например, для x = np.array([1, 2, 2, 4]), y = np.array([4, 2, 1, 2]) ответ True."
   ]
  },
  {
   "cell_type": "code",
   "execution_count": 101,
   "id": "a809e02f",
   "metadata": {},
   "outputs": [
    {
     "name": "stdout",
     "output_type": "stream",
     "text": [
      "True\n",
      "[2 4 3] [2 3 3 4]\n",
      "True\n"
     ]
    }
   ],
   "source": [
    "X=[1,2,4,2]\n",
    "Y=[4,2,1]\n",
    "print(set(X)==set(Y))\n",
    "X_ = np.random.randint(1,5,3)\n",
    "Y_ = np.random.randint(1,5,4)\n",
    "print(X_,Y_)\n",
    "print (np.array_equal(np.unique(X_),np.unique(Y_)))"
   ]
  },
  {
   "cell_type": "markdown",
   "id": "b9c185c7",
   "metadata": {},
   "source": [
    "* __Задача 3__: Найти максимальный элемент в векторе x среди элементов, перед которыми стоит ноль. \n",
    " Например, для x = np.array([6, 2, 0, 3, 0, 0, 5, 7, 0]) ответ 5."
   ]
  },
  {
   "cell_type": "code",
   "execution_count": 130,
   "id": "b57df008",
   "metadata": {},
   "outputs": [
    {
     "name": "stdout",
     "output_type": "stream",
     "text": [
      "3\n",
      "5\n"
     ]
    }
   ],
   "source": [
    "X=[100, 0, 0, 3, 0, 0, 2, 7, 0]\n",
    "max_element=0\n",
    "for i in range(len(X)-1):\n",
    "    if(X[i]==0 and X[i+1]>max_element):\n",
    "            max_element=X[i+1]\n",
    "print(max_element)\n",
    "\n",
    "x = np.array([6, 2, 0, 3, 0, 0, 5, 7, 9])\n",
    "ind=(np.where(x==0)[0])+1\n",
    "x=np.append(x,0)\n",
    "print(np.max(x[ind]))\n"
   ]
  },
  {
   "cell_type": "markdown",
   "id": "480be4ce",
   "metadata": {},
   "source": [
    "* __Задача 4__: Реализовать кодирование длин серий (Run-length encoding). Для некоторого вектора x необходимо вернуть кортеж из двух векторов одинаковой длины. Первый содержит числа, а второй - сколько раз их нужно повторить.  \n",
    " Например, для x = np.array([2, 2, 2, 3, 3, 3, 5]) ответ (np.array([2, 3, 5]), np.array([3, 3, 1]))."
   ]
  },
  {
   "cell_type": "code",
   "execution_count": 119,
   "id": "3c592124",
   "metadata": {},
   "outputs": [
    {
     "name": "stdout",
     "output_type": "stream",
     "text": [
      "([1, 2, 5, 3, 5], [3, 2, 1, 3, 1])\n",
      "(array([1, 2, 5, 3, 5]), array([3, 2, 1, 3, 1]))\n"
     ]
    }
   ],
   "source": [
    "X=[1,1,1, 2,2, 5, 3, 3, 3, 5]\n",
    "temp=X[0]\n",
    "count=1\n",
    "first_arr=[]\n",
    "second_arr=[]\n",
    "for i in range(1,len(X)):\n",
    "    if X[i]!=temp:\n",
    "        first_arr.append(temp)\n",
    "        second_arr.append(count)\n",
    "        temp=X[i]\n",
    "        count=1\n",
    "    else:\n",
    "        count+=1\n",
    "first_arr.append(temp)\n",
    "second_arr.append(count)\n",
    "\n",
    "print((first_arr,second_arr))\n",
    "x=np.array([1,1,1, 2,2, 5, 3, 3, 3, 5])\n",
    "y=np.diff(x)\n",
    "z=np.append(np.nonzero(y)[0],len(x)-1)\n",
    "arr1=x[z]\n",
    "z=np.insert(z, 0,-1, axis=0)\n",
    "arr2=np.diff(z)\n",
    "print((arr1,arr2))"
   ]
  },
  {
   "cell_type": "markdown",
   "id": "077532ec",
   "metadata": {},
   "source": [
    "* __Задача 5__: Даны две выборки объектов - X и Y. Вычислить матрицу евклидовых расстояний между объектами. Сравните с функцией scipy.spatial.distance.cdist по скорости работы."
   ]
  },
  {
   "cell_type": "code",
   "execution_count": 5,
   "id": "1e807797",
   "metadata": {},
   "outputs": [
    {
     "name": "stdout",
     "output_type": "stream",
     "text": [
      "[[0.         4.70444794 1.6171966  1.88558331]\n",
      " [4.70444794 0.         6.0892811  3.35605413]\n",
      " [1.6171966  6.0892811  0.         2.84770898]\n",
      " [1.88558331 3.35605413 2.84770898 0.        ]]\n",
      "Duration: 0:00:00.000484\n",
      "[[0.         4.70444794 1.6171966  1.88558331]\n",
      " [4.70444794 0.         6.0892811  3.35605413]\n",
      " [1.6171966  6.0892811  0.         2.84770898]\n",
      " [1.88558331 3.35605413 2.84770898 0.        ]]\n",
      "Duration: 0:00:00.000607\n",
      "[[0.0, 4.704447943170383, 1.6171965990565296, 1.8855833102782755], [4.704447943170383, 0.0, 6.089281104531148, 3.3560541309698886], [1.6171965990565296, 6.089281104531148, 0.0, 2.8477089774062208], [1.8855833102782755, 3.3560541309698886, 2.8477089774062208, 0.0]]\n",
      "Duration: 0:00:00.000106\n"
     ]
    }
   ],
   "source": [
    "import scipy.spatial\n",
    "from datetime import datetime\n",
    "def matrix_(A,B):\n",
    "    P = np.add.outer(np.sum(A**2,axis=1), np.sum(B**2, axis=1))\n",
    "    N = A@B.T\n",
    "    dists = np.sqrt(P - 2*N)\n",
    "    return dists\n",
    "\n",
    "def distance(x,y):\n",
    "    return ((x[0]-y[0])**2+(x[1]-y[1])**2)**0.5\n",
    "def matrix(A,B):\n",
    "    result=[]\n",
    "    for i in range(len(A)):\n",
    "        row=[]\n",
    "        for j in range(len(B)):\n",
    "            row.append(distance(A[i],B[j]))\n",
    "        result.append(row)\n",
    "    return result\n",
    "\n",
    "coords = np.array([(35.0456, -85.2672),\n",
    "          (35.1174, -89.9711),\n",
    "          (35.9728, -83.9422),\n",
    "          (36.1667, -86.7833)])\n",
    "\n",
    "start_time = datetime.now()\n",
    "print(scipy.spatial.distance.cdist(coords, coords, 'euclidean'))\n",
    "end_time = datetime.now()\n",
    "print('Duration: {}'.format(end_time - start_time))\n",
    "\n",
    "start_time = datetime.now()\n",
    "print(matrix_(coords,coords))\n",
    "end_time = datetime.now()\n",
    "print('Duration: {}'.format(end_time - start_time))\n",
    "\n",
    "start_time = datetime.now()\n",
    "print(matrix(coords,coords))\n",
    "end_time = datetime.now()\n",
    "print('Duration: {}'.format(end_time - start_time))\n",
    "\n"
   ]
  },
  {
   "cell_type": "markdown",
   "id": "973e8064",
   "metadata": {},
   "source": [
    "# функция из скайпай получилась самая медленная"
   ]
  },
  {
   "cell_type": "markdown",
   "id": "1104acb7",
   "metadata": {},
   "source": [
    "* #### __Задача 6__: CrunchieMunchies __*__\n",
    "\n",
    "Вы работаете в отделе маркетинга пищевой компании MyCrunch, которая разрабатывает новый вид вкусных, полезных злаков под названием **CrunchieMunchies**.\n",
    "\n",
    "Вы хотите продемонстрировать потребителям, насколько полезны ваши хлопья по сравнению с другими ведущими брендами, поэтому вы собрали данные о питании нескольких разных конкурентов.\n",
    "\n",
    "Ваша задача - использовать вычисления Numpy для анализа этих данных и доказать, что ваши **СrunchieMunchies** - самый здоровый выбор для потребителей.\n"
   ]
  },
  {
   "cell_type": "code",
   "execution_count": 2,
   "id": "10a77f8d",
   "metadata": {},
   "outputs": [],
   "source": [
    "import numpy as np"
   ]
  },
  {
   "cell_type": "markdown",
   "id": "ab87cb03",
   "metadata": {},
   "source": [
    "1. Просмотрите файл cereal.csv. Этот файл содержит количества калорий для различных марок хлопьев. Загрузите данные из файла и сохраните их как calorie_stats."
   ]
  },
  {
   "cell_type": "code",
   "execution_count": 3,
   "id": "9681ebf2",
   "metadata": {},
   "outputs": [
    {
     "data": {
      "text/plain": [
       "array([ 70., 120.,  70.,  50., 110., 110., 110., 130.,  90.,  90., 120.,\n",
       "       110., 120., 110., 110., 110., 100., 110., 110., 110., 100., 110.,\n",
       "       100., 100., 110., 110., 100., 120., 120., 110., 100., 110., 100.,\n",
       "       110., 120., 120., 110., 110., 110., 140., 110., 100., 110., 100.,\n",
       "       150., 150., 160., 100., 120., 140.,  90., 130., 120., 100.,  50.,\n",
       "        50., 100., 100., 120., 100.,  90., 110., 110.,  80.,  90.,  90.,\n",
       "       110., 110.,  90., 110., 140., 100., 110., 110., 100., 100., 110.])"
      ]
     },
     "execution_count": 3,
     "metadata": {},
     "output_type": "execute_result"
    }
   ],
   "source": [
    "calorie_stats = np.loadtxt(\"data/cereal.csv\", delimiter=\",\")\n",
    "calorie_stats"
   ]
  },
  {
   "cell_type": "markdown",
   "id": "139cfbd8",
   "metadata": {},
   "source": [
    "2. В одной порции CrunchieMunchies содержится 60 калорий. Насколько выше среднее количество калорий у ваших конкурентов?\n",
    "\n",
    "Сохраните ответ в переменной average_calories и распечатайте переменную в терминале"
   ]
  },
  {
   "cell_type": "code",
   "execution_count": 24,
   "id": "7036d240",
   "metadata": {},
   "outputs": [
    {
     "data": {
      "text/plain": [
       "106.88311688311688"
      ]
     },
     "execution_count": 24,
     "metadata": {},
     "output_type": "execute_result"
    }
   ],
   "source": [
    "average_calories=np.mean(calorie_stats)\n",
    "average_calories"
   ]
  },
  {
   "cell_type": "markdown",
   "id": "b2ddb4cd",
   "metadata": {},
   "source": [
    "3. Корректно ли среднее количество калорий отражает распределение набора данных? Давайте отсортируем данные и посмотрим.\n",
    "\n",
    "Отсортируйте данные и сохраните результат в переменной calorie_stats_sorted. Распечатайте отсортированную информацию"
   ]
  },
  {
   "cell_type": "code",
   "execution_count": 22,
   "id": "46eeb4ed",
   "metadata": {},
   "outputs": [
    {
     "data": {
      "text/plain": [
       "array([ 50.,  50.,  50.,  70.,  70.,  80.,  90.,  90.,  90.,  90.,  90.,\n",
       "        90.,  90., 100., 100., 100., 100., 100., 100., 100., 100., 100.,\n",
       "       100., 100., 100., 100., 100., 100., 100., 100., 110., 110., 110.,\n",
       "       110., 110., 110., 110., 110., 110., 110., 110., 110., 110., 110.,\n",
       "       110., 110., 110., 110., 110., 110., 110., 110., 110., 110., 110.,\n",
       "       110., 110., 110., 110., 120., 120., 120., 120., 120., 120., 120.,\n",
       "       120., 120., 120., 130., 130., 140., 140., 140., 150., 150., 160.])"
      ]
     },
     "execution_count": 22,
     "metadata": {},
     "output_type": "execute_result"
    }
   ],
   "source": [
    "calorie_stats=np.sort(calorie_stats)\n",
    "calorie_stats"
   ]
  },
  {
   "cell_type": "markdown",
   "id": "4dc74116",
   "metadata": {},
   "source": [
    "4. Похоже, что большинство значений выше среднего. Давайте посмотрим, является ли медиана наиболее корректным показателем набора данных.\n",
    "\n",
    "Вычислите медиану набора данных и сохраните свой ответ в median_calories. Выведите медиану, чтобы вы могли видеть, как она сравнивается со средним значением."
   ]
  },
  {
   "cell_type": "code",
   "execution_count": 4,
   "id": "b56627c3",
   "metadata": {},
   "outputs": [
    {
     "data": {
      "text/plain": [
       "110.0"
      ]
     },
     "execution_count": 4,
     "metadata": {},
     "output_type": "execute_result"
    }
   ],
   "source": [
    "median_calories=np.median(calorie_stats)# your code\n",
    "median_calories"
   ]
  },
  {
   "cell_type": "markdown",
   "id": "a63ab72f",
   "metadata": {},
   "source": [
    "5. В то время как медиана показывает, что по крайней мере половина наших значений составляет более 100 калорий, было бы более впечатляюще показать, что значительная часть конкурентов имеет более высокое количество калорий, чем CrunchieMunchies.\n",
    "\n",
    "Рассчитайте различные процентили и распечатайте их, пока не найдете наименьший процентиль, превышающий 60 калорий. Сохраните это значение в переменной nth_percentile."
   ]
  },
  {
   "cell_type": "code",
   "execution_count": 238,
   "id": "fe80ce03",
   "metadata": {},
   "outputs": [
    {
     "data": {
      "text/plain": [
       "70.0"
      ]
     },
     "execution_count": 238,
     "metadata": {},
     "output_type": "execute_result"
    }
   ],
   "source": [
    "nth_percentile=np.percentile(calorie_stats,4)\n",
    "nth_percentile"
   ]
  },
  {
   "cell_type": "markdown",
   "id": "a2a3c5aa",
   "metadata": {},
   "source": [
    "6. Хотя процентиль показывает нам, что у большинства конкурентов количество калорий намного выше, это неудобная концепция для использования в маркетинговых материалах.\n",
    "\n",
    "Вместо этого давайте подсчитаем процент хлопьев, в которых содержится более 60 калорий на порцию. Сохраните свой ответ в переменной more_calories и распечатайте его"
   ]
  },
  {
   "cell_type": "code",
   "execution_count": 242,
   "id": "ade0f6ea",
   "metadata": {},
   "outputs": [
    {
     "data": {
      "text/plain": [
       "96.1038961038961"
      ]
     },
     "execution_count": 242,
     "metadata": {},
     "output_type": "execute_result"
    }
   ],
   "source": [
    "more_calories=len(calorie_stats[calorie_stats>60])/len(calorie_stats)\n",
    "more_calories*100"
   ]
  },
  {
   "cell_type": "markdown",
   "id": "1735d65b",
   "metadata": {},
   "source": [
    "7. Это действительно высокий процент. Это будет очень полезно, когда мы будем продвигать CrunchieMunchies. Но один вопрос заключается в том, насколько велики различия в наборе данных? Можем ли мы сделать обобщение, что в большинстве злаков содержится около 100 калорий или разброс еще больше?\n",
    "\n",
    "Рассчитайте величину отклонения, найдя стандартное отклонение, Сохраните свой ответ в calorie_std и распечатайте на терминале. Как мы можем включить эту ценность в наш анализ?"
   ]
  },
  {
   "cell_type": "code",
   "execution_count": 243,
   "id": "85c8df1f",
   "metadata": {},
   "outputs": [
    {
     "data": {
      "text/plain": [
       "19.35718533390827"
      ]
     },
     "execution_count": 243,
     "metadata": {},
     "output_type": "execute_result"
    }
   ],
   "source": [
    "calorie_std=np.std(calorie_stats)\n",
    "calorie_std"
   ]
  },
  {
   "cell_type": "markdown",
   "id": "9764cdc7",
   "metadata": {},
   "source": [
    "# так как стандартное отклонение имеет не очень большое значение, это значит что значения в выборке приблизительно равны среднему, которое равно около 100 калорий"
   ]
  },
  {
   "cell_type": "markdown",
   "id": "037455c5",
   "metadata": {},
   "source": [
    "8. Напишите короткий абзац, в котором кратко изложите свои выводы и то, как, по вашему мнению, эти данные могут быть использованы в интересах Mycrunch при маркетинге CrunchieMunchies."
   ]
  },
  {
   "cell_type": "markdown",
   "id": "b55643a1",
   "metadata": {},
   "source": [
    "# становится понятно, что СrunchieMunchies  имеет меньше калорий чем большинство злаков на рынке. Благодаря этим данным компания может показать, что её хлопья будут полезнее чем у конкурентов."
   ]
  }
 ],
 "metadata": {
  "kernelspec": {
   "display_name": "Python 3 (ipykernel)",
   "language": "python",
   "name": "python3"
  },
  "language_info": {
   "codemirror_mode": {
    "name": "ipython",
    "version": 3
   },
   "file_extension": ".py",
   "mimetype": "text/x-python",
   "name": "python",
   "nbconvert_exporter": "python",
   "pygments_lexer": "ipython3",
   "version": "3.8.10"
  }
 },
 "nbformat": 4,
 "nbformat_minor": 5
}
